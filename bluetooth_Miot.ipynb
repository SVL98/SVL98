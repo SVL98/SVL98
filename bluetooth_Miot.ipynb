{
  "nbformat": 4,
  "nbformat_minor": 0,
  "metadata": {
    "colab": {
      "provenance": [],
      "authorship_tag": "ABX9TyNeK2UMNkFiHYyJxLaF8E78",
      "include_colab_link": true
    },
    "kernelspec": {
      "name": "python3",
      "display_name": "Python 3"
    },
    "language_info": {
      "name": "python"
    }
  },
  "cells": [
    {
      "cell_type": "markdown",
      "metadata": {
        "id": "view-in-github",
        "colab_type": "text"
      },
      "source": [
        "<a href=\"https://colab.research.google.com/github/SVL98/SVL98/blob/main/bluetooth_Miot.ipynb\" target=\"_parent\"><img src=\"https://colab.research.google.com/assets/colab-badge.svg\" alt=\"Open In Colab\"/></a>"
      ]
    },
    {
      "cell_type": "code",
      "execution_count": 1,
      "metadata": {
        "colab": {
          "base_uri": "https://localhost:8080/"
        },
        "collapsed": true,
        "id": "Bz1Pg3VozNFn",
        "outputId": "4a7a43b0-3162-4513-ea91-db7deb37d476"
      },
      "outputs": [
        {
          "output_type": "stream",
          "name": "stdout",
          "text": [
            "Collecting scapy\n",
            "  Downloading scapy-2.5.0.tar.gz (1.3 MB)\n",
            "\u001b[2K     \u001b[90m━━━━━━━━━━━━━━━━━━━━━━━━━━━━━━━━━━━━━━━━\u001b[0m \u001b[32m1.3/1.3 MB\u001b[0m \u001b[31m4.9 MB/s\u001b[0m eta \u001b[36m0:00:00\u001b[0m\n",
            "\u001b[?25h  Preparing metadata (setup.py) ... \u001b[?25l\u001b[?25hdone\n",
            "Requirement already satisfied: pandas in /usr/local/lib/python3.10/dist-packages (2.1.4)\n",
            "Requirement already satisfied: scikit-learn in /usr/local/lib/python3.10/dist-packages (1.3.2)\n",
            "Requirement already satisfied: numpy<2,>=1.22.4 in /usr/local/lib/python3.10/dist-packages (from pandas) (1.26.4)\n",
            "Requirement already satisfied: python-dateutil>=2.8.2 in /usr/local/lib/python3.10/dist-packages (from pandas) (2.8.2)\n",
            "Requirement already satisfied: pytz>=2020.1 in /usr/local/lib/python3.10/dist-packages (from pandas) (2024.1)\n",
            "Requirement already satisfied: tzdata>=2022.1 in /usr/local/lib/python3.10/dist-packages (from pandas) (2024.1)\n",
            "Requirement already satisfied: scipy>=1.5.0 in /usr/local/lib/python3.10/dist-packages (from scikit-learn) (1.13.1)\n",
            "Requirement already satisfied: joblib>=1.1.1 in /usr/local/lib/python3.10/dist-packages (from scikit-learn) (1.4.2)\n",
            "Requirement already satisfied: threadpoolctl>=2.0.0 in /usr/local/lib/python3.10/dist-packages (from scikit-learn) (3.5.0)\n",
            "Requirement already satisfied: six>=1.5 in /usr/local/lib/python3.10/dist-packages (from python-dateutil>=2.8.2->pandas) (1.16.0)\n",
            "Building wheels for collected packages: scapy\n",
            "  Building wheel for scapy (setup.py) ... \u001b[?25l\u001b[?25hdone\n",
            "  Created wheel for scapy: filename=scapy-2.5.0-py2.py3-none-any.whl size=1444319 sha256=f4e07e69e51445bac7751ff838ec55c50a2b0d9b98283addd8f5a6895d5dd03f\n",
            "  Stored in directory: /root/.cache/pip/wheels/82/b7/03/8344d8cf6695624746311bc0d389e9d05535ca83c35f90241d\n",
            "Successfully built scapy\n",
            "Installing collected packages: scapy\n",
            "Successfully installed scapy-2.5.0\n"
          ]
        }
      ],
      "source": [
        "pip install scapy pandas scikit-learn\n"
      ]
    },
    {
      "cell_type": "code",
      "source": [
        "from scapy.all import rdpcap\n",
        "from scapy.layers.bluetooth import HCI_Hdr, HCI_Event_Hdr\n",
        "import pandas as pd\n",
        "\n",
        "def extract_hci_features(packet):\n",
        "    features = {\n",
        "        'length': len(packet),\n",
        "        'direction': None,\n",
        "        'event_code': None,\n",
        "        'opcode': None,\n",
        "        'status': None,\n",
        "    }\n",
        "\n",
        "    if packet.haslayer(HCI_Hdr):\n",
        "        hci_hdr = packet[HCI_Hdr]\n",
        "        features['direction'] = hci_hdr.direction\n",
        "\n",
        "        if packet.haslayer(HCI_Event_Hdr):\n",
        "            hci_event_hdr = packet[HCI_Event_Hdr]\n",
        "            features['event_code'] = hci_event_hdr.code\n",
        "            features['opcode'] = getattr(packet, 'opcode', 0)\n",
        "            features['status'] = getattr(packet, 'status', -1)\n",
        "\n",
        "    return features\n",
        "\n",
        "# Load and extract features from the BENIGN pcap file\n",
        "packets_benign = rdpcap('/content/Bluetooth_Benign_train.pcap')\n",
        "features_list_benign = [extract_hci_features(packet) for packet in packets_benign]\n",
        "df_benign = pd.DataFrame(features_list_benign)\n",
        "df_benign['direction'].fillna('unknown', inplace=True)\n",
        "df_benign['opcode'].fillna(0, inplace=True)\n",
        "df_benign['status'].fillna(-1, inplace=True)\n",
        "df_benign['label'] = 'BENIGN'\n",
        "\n",
        "# Load and extract features from the DoS pcap file\n",
        "packets_dos = rdpcap('/content/Bluetooth_DoS_train.pcap')\n",
        "features_list_dos = [extract_hci_features(packet) for packet in packets_dos]\n",
        "df_dos = pd.DataFrame(features_list_dos)\n",
        "df_dos['direction'].fillna('unknown', inplace=True)\n",
        "df_dos['opcode'].fillna(0, inplace=True)\n",
        "df_dos['status'].fillna(-1, inplace=True)\n",
        "df_dos['label'] = 'DoS'  # Label these packets as 'DoS'\n",
        "\n",
        "# Merge the two DataFrames\n",
        "df_merged = pd.concat([df_benign, df_dos], ignore_index=True)\n",
        "\n",
        "# Display the first few rows of the merged DataFrame\n",
        "print(df_merged.head())\n"
      ],
      "metadata": {
        "colab": {
          "base_uri": "https://localhost:8080/"
        },
        "id": "7dBcVpai-fNM",
        "outputId": "f9cd6f77-5fd1-4f0e-861b-547204145ef4"
      },
      "execution_count": 4,
      "outputs": [
        {
          "output_type": "stream",
          "name": "stdout",
          "text": [
            "   length direction  event_code  opcode  status   label\n",
            "0       8   unknown         NaN     0.0    -1.0  BENIGN\n",
            "1      11   unknown        14.0  3075.0     0.0  BENIGN\n",
            "2       8   unknown         NaN     0.0    -1.0  BENIGN\n",
            "3      18   unknown        14.0  4101.0     0.0  BENIGN\n",
            "4      15   unknown         NaN     0.0    -1.0  BENIGN\n"
          ]
        }
      ]
    },
    {
      "cell_type": "code",
      "source": [
        "print(df_merged[features].isnull().sum())\n"
      ],
      "metadata": {
        "colab": {
          "base_uri": "https://localhost:8080/"
        },
        "id": "HlenELOLAQru",
        "outputId": "474112a7-f43c-4a0b-b05b-41d4427084a9"
      },
      "execution_count": 15,
      "outputs": [
        {
          "output_type": "stream",
          "name": "stdout",
          "text": [
            "length             0\n",
            "event_code    537205\n",
            "opcode             0\n",
            "status             0\n",
            "dtype: int64\n"
          ]
        }
      ]
    },
    {
      "cell_type": "code",
      "source": [
        "from sklearn.impute import SimpleImputer\n",
        "from sklearn.preprocessing import StandardScaler\n",
        "\n",
        "# Create an imputer for the 'event_code' feature\n",
        "imputer = SimpleImputer(strategy='most_frequent')  # Using the most frequent value for categorical data\n",
        "\n",
        "# Impute missing values in the 'event_code' feature\n",
        "df_merged['event_code'] = imputer.fit_transform(df_merged[['event_code']])\n",
        "\n",
        "# Now select features and normalize\n",
        "features = ['length', 'event_code', 'opcode', 'status']\n",
        "scaler = StandardScaler()\n",
        "X_train = scaler.fit_transform(df_merged[features])\n",
        "y_train = df_merged['label']\n",
        "\n",
        "# Train the Random Forest model\n",
        "model = RandomForestClassifier(random_state=42)\n",
        "model.fit(X_train, y_train)\n"
      ],
      "metadata": {
        "colab": {
          "base_uri": "https://localhost:8080/",
          "height": 75
        },
        "id": "nRw6zoToAdDm",
        "outputId": "db3a3d56-7cff-4abf-e72a-baee908a7414"
      },
      "execution_count": 7,
      "outputs": [
        {
          "output_type": "execute_result",
          "data": {
            "text/plain": [
              "RandomForestClassifier(random_state=42)"
            ],
            "text/html": [
              "<style>#sk-container-id-1 {color: black;}#sk-container-id-1 pre{padding: 0;}#sk-container-id-1 div.sk-toggleable {background-color: white;}#sk-container-id-1 label.sk-toggleable__label {cursor: pointer;display: block;width: 100%;margin-bottom: 0;padding: 0.3em;box-sizing: border-box;text-align: center;}#sk-container-id-1 label.sk-toggleable__label-arrow:before {content: \"▸\";float: left;margin-right: 0.25em;color: #696969;}#sk-container-id-1 label.sk-toggleable__label-arrow:hover:before {color: black;}#sk-container-id-1 div.sk-estimator:hover label.sk-toggleable__label-arrow:before {color: black;}#sk-container-id-1 div.sk-toggleable__content {max-height: 0;max-width: 0;overflow: hidden;text-align: left;background-color: #f0f8ff;}#sk-container-id-1 div.sk-toggleable__content pre {margin: 0.2em;color: black;border-radius: 0.25em;background-color: #f0f8ff;}#sk-container-id-1 input.sk-toggleable__control:checked~div.sk-toggleable__content {max-height: 200px;max-width: 100%;overflow: auto;}#sk-container-id-1 input.sk-toggleable__control:checked~label.sk-toggleable__label-arrow:before {content: \"▾\";}#sk-container-id-1 div.sk-estimator input.sk-toggleable__control:checked~label.sk-toggleable__label {background-color: #d4ebff;}#sk-container-id-1 div.sk-label input.sk-toggleable__control:checked~label.sk-toggleable__label {background-color: #d4ebff;}#sk-container-id-1 input.sk-hidden--visually {border: 0;clip: rect(1px 1px 1px 1px);clip: rect(1px, 1px, 1px, 1px);height: 1px;margin: -1px;overflow: hidden;padding: 0;position: absolute;width: 1px;}#sk-container-id-1 div.sk-estimator {font-family: monospace;background-color: #f0f8ff;border: 1px dotted black;border-radius: 0.25em;box-sizing: border-box;margin-bottom: 0.5em;}#sk-container-id-1 div.sk-estimator:hover {background-color: #d4ebff;}#sk-container-id-1 div.sk-parallel-item::after {content: \"\";width: 100%;border-bottom: 1px solid gray;flex-grow: 1;}#sk-container-id-1 div.sk-label:hover label.sk-toggleable__label {background-color: #d4ebff;}#sk-container-id-1 div.sk-serial::before {content: \"\";position: absolute;border-left: 1px solid gray;box-sizing: border-box;top: 0;bottom: 0;left: 50%;z-index: 0;}#sk-container-id-1 div.sk-serial {display: flex;flex-direction: column;align-items: center;background-color: white;padding-right: 0.2em;padding-left: 0.2em;position: relative;}#sk-container-id-1 div.sk-item {position: relative;z-index: 1;}#sk-container-id-1 div.sk-parallel {display: flex;align-items: stretch;justify-content: center;background-color: white;position: relative;}#sk-container-id-1 div.sk-item::before, #sk-container-id-1 div.sk-parallel-item::before {content: \"\";position: absolute;border-left: 1px solid gray;box-sizing: border-box;top: 0;bottom: 0;left: 50%;z-index: -1;}#sk-container-id-1 div.sk-parallel-item {display: flex;flex-direction: column;z-index: 1;position: relative;background-color: white;}#sk-container-id-1 div.sk-parallel-item:first-child::after {align-self: flex-end;width: 50%;}#sk-container-id-1 div.sk-parallel-item:last-child::after {align-self: flex-start;width: 50%;}#sk-container-id-1 div.sk-parallel-item:only-child::after {width: 0;}#sk-container-id-1 div.sk-dashed-wrapped {border: 1px dashed gray;margin: 0 0.4em 0.5em 0.4em;box-sizing: border-box;padding-bottom: 0.4em;background-color: white;}#sk-container-id-1 div.sk-label label {font-family: monospace;font-weight: bold;display: inline-block;line-height: 1.2em;}#sk-container-id-1 div.sk-label-container {text-align: center;}#sk-container-id-1 div.sk-container {/* jupyter's `normalize.less` sets `[hidden] { display: none; }` but bootstrap.min.css set `[hidden] { display: none !important; }` so we also need the `!important` here to be able to override the default hidden behavior on the sphinx rendered scikit-learn.org. See: https://github.com/scikit-learn/scikit-learn/issues/21755 */display: inline-block !important;position: relative;}#sk-container-id-1 div.sk-text-repr-fallback {display: none;}</style><div id=\"sk-container-id-1\" class=\"sk-top-container\"><div class=\"sk-text-repr-fallback\"><pre>RandomForestClassifier(random_state=42)</pre><b>In a Jupyter environment, please rerun this cell to show the HTML representation or trust the notebook. <br />On GitHub, the HTML representation is unable to render, please try loading this page with nbviewer.org.</b></div><div class=\"sk-container\" hidden><div class=\"sk-item\"><div class=\"sk-estimator sk-toggleable\"><input class=\"sk-toggleable__control sk-hidden--visually\" id=\"sk-estimator-id-1\" type=\"checkbox\" checked><label for=\"sk-estimator-id-1\" class=\"sk-toggleable__label sk-toggleable__label-arrow\">RandomForestClassifier</label><div class=\"sk-toggleable__content\"><pre>RandomForestClassifier(random_state=42)</pre></div></div></div></div></div>"
            ]
          },
          "metadata": {},
          "execution_count": 7
        }
      ]
    },
    {
      "cell_type": "code",
      "source": [
        "print(df_merged[features].isnull().sum())\n"
      ],
      "metadata": {
        "colab": {
          "base_uri": "https://localhost:8080/"
        },
        "id": "4f1lg6M4Ajxt",
        "outputId": "72967202-5329-4cda-d526-b6a0d3c5b401"
      },
      "execution_count": 8,
      "outputs": [
        {
          "output_type": "stream",
          "name": "stdout",
          "text": [
            "length        0\n",
            "event_code    0\n",
            "opcode        0\n",
            "status        0\n",
            "dtype: int64\n"
          ]
        }
      ]
    },
    {
      "cell_type": "code",
      "source": [
        "from sklearn.ensemble import RandomForestClassifier\n",
        "\n",
        "# Train the Random Forest classifier\n",
        "model = RandomForestClassifier(random_state=42)\n",
        "model.fit(X_train, y_train)\n"
      ],
      "metadata": {
        "colab": {
          "base_uri": "https://localhost:8080/",
          "height": 75
        },
        "id": "vnMR5dCEAu2Y",
        "outputId": "9fd04358-2982-4872-a29c-210acdaedf38"
      },
      "execution_count": 9,
      "outputs": [
        {
          "output_type": "execute_result",
          "data": {
            "text/plain": [
              "RandomForestClassifier(random_state=42)"
            ],
            "text/html": [
              "<style>#sk-container-id-2 {color: black;}#sk-container-id-2 pre{padding: 0;}#sk-container-id-2 div.sk-toggleable {background-color: white;}#sk-container-id-2 label.sk-toggleable__label {cursor: pointer;display: block;width: 100%;margin-bottom: 0;padding: 0.3em;box-sizing: border-box;text-align: center;}#sk-container-id-2 label.sk-toggleable__label-arrow:before {content: \"▸\";float: left;margin-right: 0.25em;color: #696969;}#sk-container-id-2 label.sk-toggleable__label-arrow:hover:before {color: black;}#sk-container-id-2 div.sk-estimator:hover label.sk-toggleable__label-arrow:before {color: black;}#sk-container-id-2 div.sk-toggleable__content {max-height: 0;max-width: 0;overflow: hidden;text-align: left;background-color: #f0f8ff;}#sk-container-id-2 div.sk-toggleable__content pre {margin: 0.2em;color: black;border-radius: 0.25em;background-color: #f0f8ff;}#sk-container-id-2 input.sk-toggleable__control:checked~div.sk-toggleable__content {max-height: 200px;max-width: 100%;overflow: auto;}#sk-container-id-2 input.sk-toggleable__control:checked~label.sk-toggleable__label-arrow:before {content: \"▾\";}#sk-container-id-2 div.sk-estimator input.sk-toggleable__control:checked~label.sk-toggleable__label {background-color: #d4ebff;}#sk-container-id-2 div.sk-label input.sk-toggleable__control:checked~label.sk-toggleable__label {background-color: #d4ebff;}#sk-container-id-2 input.sk-hidden--visually {border: 0;clip: rect(1px 1px 1px 1px);clip: rect(1px, 1px, 1px, 1px);height: 1px;margin: -1px;overflow: hidden;padding: 0;position: absolute;width: 1px;}#sk-container-id-2 div.sk-estimator {font-family: monospace;background-color: #f0f8ff;border: 1px dotted black;border-radius: 0.25em;box-sizing: border-box;margin-bottom: 0.5em;}#sk-container-id-2 div.sk-estimator:hover {background-color: #d4ebff;}#sk-container-id-2 div.sk-parallel-item::after {content: \"\";width: 100%;border-bottom: 1px solid gray;flex-grow: 1;}#sk-container-id-2 div.sk-label:hover label.sk-toggleable__label {background-color: #d4ebff;}#sk-container-id-2 div.sk-serial::before {content: \"\";position: absolute;border-left: 1px solid gray;box-sizing: border-box;top: 0;bottom: 0;left: 50%;z-index: 0;}#sk-container-id-2 div.sk-serial {display: flex;flex-direction: column;align-items: center;background-color: white;padding-right: 0.2em;padding-left: 0.2em;position: relative;}#sk-container-id-2 div.sk-item {position: relative;z-index: 1;}#sk-container-id-2 div.sk-parallel {display: flex;align-items: stretch;justify-content: center;background-color: white;position: relative;}#sk-container-id-2 div.sk-item::before, #sk-container-id-2 div.sk-parallel-item::before {content: \"\";position: absolute;border-left: 1px solid gray;box-sizing: border-box;top: 0;bottom: 0;left: 50%;z-index: -1;}#sk-container-id-2 div.sk-parallel-item {display: flex;flex-direction: column;z-index: 1;position: relative;background-color: white;}#sk-container-id-2 div.sk-parallel-item:first-child::after {align-self: flex-end;width: 50%;}#sk-container-id-2 div.sk-parallel-item:last-child::after {align-self: flex-start;width: 50%;}#sk-container-id-2 div.sk-parallel-item:only-child::after {width: 0;}#sk-container-id-2 div.sk-dashed-wrapped {border: 1px dashed gray;margin: 0 0.4em 0.5em 0.4em;box-sizing: border-box;padding-bottom: 0.4em;background-color: white;}#sk-container-id-2 div.sk-label label {font-family: monospace;font-weight: bold;display: inline-block;line-height: 1.2em;}#sk-container-id-2 div.sk-label-container {text-align: center;}#sk-container-id-2 div.sk-container {/* jupyter's `normalize.less` sets `[hidden] { display: none; }` but bootstrap.min.css set `[hidden] { display: none !important; }` so we also need the `!important` here to be able to override the default hidden behavior on the sphinx rendered scikit-learn.org. See: https://github.com/scikit-learn/scikit-learn/issues/21755 */display: inline-block !important;position: relative;}#sk-container-id-2 div.sk-text-repr-fallback {display: none;}</style><div id=\"sk-container-id-2\" class=\"sk-top-container\"><div class=\"sk-text-repr-fallback\"><pre>RandomForestClassifier(random_state=42)</pre><b>In a Jupyter environment, please rerun this cell to show the HTML representation or trust the notebook. <br />On GitHub, the HTML representation is unable to render, please try loading this page with nbviewer.org.</b></div><div class=\"sk-container\" hidden><div class=\"sk-item\"><div class=\"sk-estimator sk-toggleable\"><input class=\"sk-toggleable__control sk-hidden--visually\" id=\"sk-estimator-id-2\" type=\"checkbox\" checked><label for=\"sk-estimator-id-2\" class=\"sk-toggleable__label sk-toggleable__label-arrow\">RandomForestClassifier</label><div class=\"sk-toggleable__content\"><pre>RandomForestClassifier(random_state=42)</pre></div></div></div></div></div>"
            ]
          },
          "metadata": {},
          "execution_count": 9
        }
      ]
    },
    {
      "cell_type": "code",
      "source": [
        "print(model)\n"
      ],
      "metadata": {
        "colab": {
          "base_uri": "https://localhost:8080/"
        },
        "id": "wCw1na07BL7p",
        "outputId": "18df787d-6439-4b5a-bee6-7fb3469f6d44"
      },
      "execution_count": 12,
      "outputs": [
        {
          "output_type": "stream",
          "name": "stdout",
          "text": [
            "RandomForestClassifier(random_state=42)\n"
          ]
        }
      ]
    },
    {
      "cell_type": "code",
      "source": [
        "from sklearn.model_selection import train_test_split\n",
        "from sklearn.metrics import classification_report, accuracy_score\n",
        "\n",
        "# Split the data into training and testing sets\n",
        "X_train, X_test, y_train, y_test = train_test_split(X_train, y_train, test_size=0.2, random_state=42)\n",
        "\n",
        "# Train the model\n",
        "model.fit(X_train, y_train)\n",
        "\n",
        "# Make predictions\n",
        "y_pred = model.predict(X_test)\n",
        "\n",
        "# Evaluate the model\n",
        "print(\"Accuracy:\", accuracy_score(y_test, y_pred))\n",
        "print(\"Classification Report:\\n\", classification_report(y_test, y_pred))\n"
      ],
      "metadata": {
        "colab": {
          "base_uri": "https://localhost:8080/"
        },
        "id": "xJyKjj_kAuc-",
        "outputId": "cd17190e-d092-46c9-e062-c11f76506a70"
      },
      "execution_count": 10,
      "outputs": [
        {
          "output_type": "stream",
          "name": "stdout",
          "text": [
            "Accuracy: 0.9798994148295275\n",
            "Classification Report:\n",
            "               precision    recall  f1-score   support\n",
            "\n",
            "      BENIGN       0.98      0.90      0.94     43395\n",
            "         DoS       0.98      1.00      0.99    199782\n",
            "\n",
            "    accuracy                           0.98    243177\n",
            "   macro avg       0.98      0.95      0.96    243177\n",
            "weighted avg       0.98      0.98      0.98    243177\n",
            "\n"
          ]
        }
      ]
    },
    {
      "cell_type": "code",
      "source": [
        "from scapy.all import rdpcap\n",
        "from scapy.layers.bluetooth import HCI_Hdr, HCI_Event_Hdr\n",
        "import pandas as pd\n",
        "\n",
        "def extract_hci_features(packet):\n",
        "    features = {\n",
        "        'length': len(packet),\n",
        "        'direction': None,\n",
        "        'event_code': None,\n",
        "        'opcode': None,\n",
        "        'status': None,\n",
        "    }\n",
        "\n",
        "    if packet.haslayer(HCI_Hdr):\n",
        "        hci_hdr = packet[HCI_Hdr]\n",
        "        features['direction'] = hci_hdr.direction\n",
        "\n",
        "        if packet.haslayer(HCI_Event_Hdr):\n",
        "            hci_event_hdr = packet[HCI_Event_Hdr]\n",
        "            features['event_code'] = hci_event_hdr.code\n",
        "            features['opcode'] = getattr(packet, 'opcode', 0)\n",
        "            features['status'] = getattr(packet, 'status', -1)\n",
        "\n",
        "    return features\n",
        "\n",
        "# Load and extract features from the BENIGN pcap file\n",
        "packets_benign = rdpcap('/content/Bluetooth_Benign_test.pcap')\n",
        "features_list_benign = [extract_hci_features(packet) for packet in packets_benign]\n",
        "df_benign = pd.DataFrame(features_list_benign)\n",
        "df_benign['direction'].fillna('unknown', inplace=True)\n",
        "df_benign['opcode'].fillna(0, inplace=True)\n",
        "df_benign['status'].fillna(-1, inplace=True)\n",
        "df_benign['label'] = 'BENIGN'\n",
        "\n",
        "# Load and extract features from the DoS pcap file\n",
        "packets_dos = rdpcap('/content/Bluetooth_DoS_test.pcap')\n",
        "features_list_dos = [extract_hci_features(packet) for packet in packets_dos]\n",
        "df_dos = pd.DataFrame(features_list_dos)\n",
        "df_dos['direction'].fillna('unknown', inplace=True)\n",
        "df_dos['opcode'].fillna(0, inplace=True)\n",
        "df_dos['status'].fillna(-1, inplace=True)\n",
        "df_dos['label'] = 'DoS'  # Label these packets as 'DoS'\n",
        "\n",
        "# Merge the two DataFrames\n",
        "df_merged = pd.concat([df_benign, df_dos], ignore_index=True)\n",
        "\n",
        "# Display the first few rows of the merged DataFrame\n",
        "print(df_merged.head())\n"
      ],
      "metadata": {
        "colab": {
          "base_uri": "https://localhost:8080/"
        },
        "id": "7bpiCS38GG6a",
        "outputId": "8a2551bd-1f34-4353-a594-acfaf3eb9c68"
      },
      "execution_count": 1,
      "outputs": [
        {
          "output_type": "stream",
          "name": "stdout",
          "text": [
            "   length direction  event_code  opcode  status   label\n",
            "0      11   unknown        14.0  3154.0     0.0  BENIGN\n",
            "1      50   unknown        62.0     0.0    -1.0  BENIGN\n",
            "2      50   unknown        62.0     0.0    -1.0  BENIGN\n",
            "3      43   unknown        62.0     0.0    -1.0  BENIGN\n",
            "4      40   unknown        62.0     0.0    -1.0  BENIGN\n"
          ]
        }
      ]
    },
    {
      "cell_type": "code",
      "source": [
        "# Example feature extraction and imputation\n",
        "from sklearn.impute import SimpleImputer\n",
        "from sklearn.preprocessing import StandardScaler\n",
        "\n",
        "# Ensure no missing values\n",
        "imputer = SimpleImputer(strategy='most_frequent')\n",
        "df_merged['event_code'] = imputer.fit_transform(df_merged[['event_code']])\n",
        "df_merged['opcode'] = imputer.fit_transform(df_merged[['opcode']])\n",
        "df_merged['status'] = imputer.fit_transform(df_merged[['status']])\n",
        "\n",
        "# Extract features and scale\n",
        "features = ['length', 'event_code', 'opcode', 'status']\n",
        "scaler = StandardScaler()\n",
        "X_test = scaler.fit_transform(df_merged[features])\n",
        "\n",
        "y_true = df_merged['label']\n",
        "\n",
        "# Ensure model is loaded or trained\n",
        "y_pred = model.predict(X_test)\n",
        "\n",
        "# Add predictions to DataFrame\n",
        "df_merged['predictions'] = y_pred\n"
      ],
      "metadata": {
        "id": "l2JyMLW_OU4Z"
      },
      "execution_count": 21,
      "outputs": []
    },
    {
      "cell_type": "code",
      "source": [
        "\n",
        "\n",
        "# Display the DataFrame with predictions\n",
        "print(df_merged.head())"
      ],
      "metadata": {
        "colab": {
          "base_uri": "https://localhost:8080/"
        },
        "id": "bwAk4XGZOvHi",
        "outputId": "1d7cc34b-e18f-4227-ae12-eec81c746c34"
      },
      "execution_count": 13,
      "outputs": [
        {
          "output_type": "stream",
          "name": "stdout",
          "text": [
            "   length direction  event_code  opcode  status   label predictions\n",
            "0       8   unknown        19.0     0.0    -1.0  BENIGN      BENIGN\n",
            "1      11   unknown        14.0  3075.0     0.0  BENIGN      BENIGN\n",
            "2       8   unknown        19.0     0.0    -1.0  BENIGN      BENIGN\n",
            "3      18   unknown        14.0  4101.0     0.0  BENIGN      BENIGN\n",
            "4      15   unknown        19.0     0.0    -1.0  BENIGN      BENIGN\n"
          ]
        }
      ]
    },
    {
      "cell_type": "code",
      "source": [
        "print(df_merged['predictions'].value_counts())\n"
      ],
      "metadata": {
        "colab": {
          "base_uri": "https://localhost:8080/"
        },
        "id": "FqwPbHpMPDt7",
        "outputId": "9de9b532-09d3-441d-d252-7863417ac435"
      },
      "execution_count": 14,
      "outputs": [
        {
          "output_type": "stream",
          "name": "stdout",
          "text": [
            "predictions\n",
            "DoS       1015751\n",
            "BENIGN     200133\n",
            "Name: count, dtype: int64\n"
          ]
        }
      ]
    },
    {
      "cell_type": "code",
      "source": [
        "from sklearn.metrics import classification_report\n",
        "print(\"Accuracy:\",accuracy_score(y_true,y_pred))\n",
        "\n",
        "# Generate a classification report\n",
        "print(classification_report(df_merged['label'], df_merged['predictions']))\n"
      ],
      "metadata": {
        "colab": {
          "base_uri": "https://localhost:8080/"
        },
        "id": "eGWZIkv6PILJ",
        "outputId": "23b9f5e2-1fba-4faa-8142-9b236e28e695"
      },
      "execution_count": 22,
      "outputs": [
        {
          "output_type": "stream",
          "name": "stdout",
          "text": [
            "Accuracy: 0.9801971240677565\n",
            "              precision    recall  f1-score   support\n",
            "\n",
            "      BENIGN       0.98      0.90      0.94    217493\n",
            "         DoS       0.98      1.00      0.99    998391\n",
            "\n",
            "    accuracy                           0.98   1215884\n",
            "   macro avg       0.98      0.95      0.97   1215884\n",
            "weighted avg       0.98      0.98      0.98   1215884\n",
            "\n"
          ]
        }
      ]
    }
  ]
}